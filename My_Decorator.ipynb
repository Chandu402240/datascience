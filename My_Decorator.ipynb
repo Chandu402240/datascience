{
 "cells": [
  {
   "cell_type": "code",
   "execution_count": 6,
   "metadata": {},
   "outputs": [],
   "source": [
    "def decorator_func(base_function):\n",
    "    \n",
    "    def wrap_function():\n",
    "        print('before base function')\n",
    "        base_function()\n",
    "        print('after base function')\n",
    "    \n",
    "    return wrap_function\n",
    "\n",
    "def need_decoration():\n",
    "    print('i need decoration')"
   ]
  },
  {
   "cell_type": "code",
   "execution_count": 7,
   "metadata": {},
   "outputs": [
    {
     "name": "stdout",
     "output_type": "stream",
     "text": [
      "before base function\n",
      "i need decoration\n",
      "after base function\n"
     ]
    }
   ],
   "source": [
    "decorated_function = decorator_func(need_decoration)\n",
    "decorated_function()"
   ]
  },
  {
   "cell_type": "code",
   "execution_count": 14,
   "metadata": {},
   "outputs": [],
   "source": [
    "@decorator_func\n",
    "def new_need_decoration():\n",
    "    print('i am new function need decoration')"
   ]
  },
  {
   "cell_type": "code",
   "execution_count": 15,
   "metadata": {},
   "outputs": [
    {
     "name": "stdout",
     "output_type": "stream",
     "text": [
      "before base function\n",
      "i am new function need decoration\n",
      "after base function\n"
     ]
    }
   ],
   "source": [
    "new_need_decoration()"
   ]
  }
 ],
 "metadata": {
  "kernelspec": {
   "display_name": "Python 3",
   "language": "python",
   "name": "python3"
  },
  "language_info": {
   "codemirror_mode": {
    "name": "ipython",
    "version": 3
   },
   "file_extension": ".py",
   "mimetype": "text/x-python",
   "name": "python",
   "nbconvert_exporter": "python",
   "pygments_lexer": "ipython3",
   "version": "3.7.4"
  }
 },
 "nbformat": 4,
 "nbformat_minor": 2
}

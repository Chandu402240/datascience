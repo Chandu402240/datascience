{
 "cells": [
  {
   "cell_type": "code",
   "execution_count": 1,
   "metadata": {},
   "outputs": [],
   "source": [
    "class Card():\n",
    "    \n",
    "    def __init__(self,suit,rank):\n",
    "        self.suit = suit\n",
    "        self.rank = rank\n",
    "      \n",
    "    def __str__(self):\n",
    "        return f'Card: {self.suit} {self.rank}'\n",
    "    "
   ]
  },
  {
   "cell_type": "code",
   "execution_count": null,
   "metadata": {},
   "outputs": [],
   "source": [
    "my_card = Card('Heart',1)"
   ]
  },
  {
   "cell_type": "code",
   "execution_count": null,
   "metadata": {},
   "outputs": [],
   "source": [
    "str(my_card)"
   ]
  },
  {
   "cell_type": "code",
   "execution_count": 17,
   "metadata": {},
   "outputs": [],
   "source": [
    "import random\n",
    "\n",
    "class Deck():\n",
    "    \n",
    "    suits = ('Hearts', 'Diamonds', 'Spades', 'Clubs')\n",
    "    ranks = ('Two', 'Three', 'Four', 'Five', 'Six', 'Seven', 'Eight', 'Nine', 'Ten', 'Jack', 'Queen', 'King', 'Ace')\n",
    "    values = {'Two':2, 'Three':3, 'Four':4, 'Five':5, 'Six':6, 'Seven':7, 'Eight':8, 'Nine':9, 'Ten':10, 'Jack':10,\n",
    "         'Queen':10, 'King':10, 'Ace':11}\n",
    "    \n",
    "    def __init__(self):\n",
    "        self.deck_list = []\n",
    "        self.try_val = [1,2,3]\n",
    "        for suit in self.suits:\n",
    "            for rank in self.ranks:\n",
    "                self.deck_list.append(Card(suit,rank))\n",
    "    \n",
    "    def deck_shuffle(self):\n",
    "        random.shuffle(self.deck_list)\n",
    "    \n",
    "    def deal(self):\n",
    "        single_card = self.deck_list.pop()\n",
    "        return single_card\n",
    "    \n",
    "    def __str__(self):\n",
    "        deck_list_val = ' '\n",
    "        for card in self.deck_list:\n",
    "            deck_list_val += '\\n'+card.__str__()\n",
    "        \n",
    "        return 'Entire Deck' + deck_list_val\n",
    "        "
   ]
  },
  {
   "cell_type": "code",
   "execution_count": 20,
   "metadata": {},
   "outputs": [],
   "source": [
    "my_deck = Deck()"
   ]
  },
  {
   "cell_type": "code",
   "execution_count": 21,
   "metadata": {},
   "outputs": [
    {
     "name": "stdout",
     "output_type": "stream",
     "text": [
      "Entire Deck \n",
      "Card: Hearts Ace\n",
      "Card: Clubs King\n",
      "Card: Diamonds Nine\n",
      "Card: Spades Eight\n",
      "Card: Clubs Three\n",
      "Card: Diamonds Eight\n",
      "Card: Diamonds Four\n",
      "Card: Hearts Two\n",
      "Card: Hearts Queen\n",
      "Card: Hearts Eight\n",
      "Card: Diamonds Three\n",
      "Card: Diamonds Seven\n",
      "Card: Spades King\n",
      "Card: Clubs Ace\n",
      "Card: Spades Five\n",
      "Card: Hearts Five\n",
      "Card: Clubs Ten\n",
      "Card: Spades Jack\n",
      "Card: Clubs Two\n",
      "Card: Hearts Seven\n",
      "Card: Clubs Five\n",
      "Card: Hearts Six\n",
      "Card: Diamonds Five\n",
      "Card: Hearts Four\n",
      "Card: Hearts Three\n",
      "Card: Spades Seven\n",
      "Card: Spades Queen\n",
      "Card: Hearts King\n",
      "Card: Clubs Six\n",
      "Card: Diamonds Queen\n",
      "Card: Clubs Queen\n",
      "Card: Spades Six\n",
      "Card: Spades Ace\n",
      "Card: Spades Three\n",
      "Card: Diamonds Six\n",
      "Card: Hearts Jack\n",
      "Card: Diamonds Ace\n",
      "Card: Spades Nine\n",
      "Card: Hearts Nine\n",
      "Card: Clubs Eight\n",
      "Card: Diamonds Two\n",
      "Card: Spades Ten\n",
      "Card: Clubs Jack\n",
      "Card: Diamonds King\n",
      "Card: Hearts Ten\n",
      "Card: Spades Two\n",
      "Card: Clubs Seven\n",
      "Card: Diamonds Ten\n",
      "Card: Spades Four\n",
      "Card: Clubs Four\n",
      "Card: Clubs Nine\n",
      "Card: Diamonds Jack\n"
     ]
    }
   ],
   "source": [
    "my_deck.deck_shuffle()\n",
    "print(my_deck)"
   ]
  },
  {
   "cell_type": "code",
   "execution_count": 22,
   "metadata": {},
   "outputs": [
    {
     "name": "stdout",
     "output_type": "stream",
     "text": [
      "Card: Diamonds Jack\n"
     ]
    },
    {
     "data": {
      "text/plain": [
       "[1, 2, 3]"
      ]
     },
     "execution_count": 22,
     "metadata": {},
     "output_type": "execute_result"
    }
   ],
   "source": [
    "my_card = my_deck.deal()\n",
    "print(my_card)\n",
    "my_deck.try_val"
   ]
  },
  {
   "cell_type": "code",
   "execution_count": 27,
   "metadata": {},
   "outputs": [],
   "source": [
    "class Hand():\n",
    "    \n",
    "    values = {'Two':2, 'Three':3, 'Four':4, 'Five':5, 'Six':6, 'Seven':7, 'Eight':8, 'Nine':9, 'Ten':10, 'Jack':10,\n",
    "         'Queen':10, 'King':10, 'Ace':11}\n",
    "    \n",
    "\n",
    "    def __init__(self):\n",
    "        self.value = 0\n",
    "        self.hand_cards = []\n",
    "        self.aces = 0\n",
    "        \n",
    "    def got_card(self,card):\n",
    "        self.hand_cards.append(card)\n",
    "        self.value += self.values[card.rank]\n",
    "        if card.rank == 'Ace':\n",
    "            self.aces+=1\n",
    "    \n",
    "    def adjust_aces(self):\n",
    "        while self.value>21 and self.aces:\n",
    "            self.value-=10\n",
    "            self.aces-=1"
   ]
  },
  {
   "cell_type": "code",
   "execution_count": 32,
   "metadata": {},
   "outputs": [
    {
     "data": {
      "text/plain": [
       "5"
      ]
     },
     "execution_count": 32,
     "metadata": {},
     "output_type": "execute_result"
    }
   ],
   "source": [
    "my_hand = Hand()\n",
    "my_deck.deck_shuffle()\n",
    "my_hand.got_card(my_deck.deal())\n",
    "my_hand.got_card(my_deck.deal())\n",
    "my_hand.value"
   ]
  },
  {
   "cell_type": "code",
   "execution_count": 34,
   "metadata": {},
   "outputs": [],
   "source": [
    "my_hand.got_card(my_deck.deal())"
   ]
  },
  {
   "cell_type": "code",
   "execution_count": 35,
   "metadata": {},
   "outputs": [
    {
     "name": "stdout",
     "output_type": "stream",
     "text": [
      "Card: Hearts Three\n",
      "Card: Spades Two\n",
      "Card: Diamonds Three\n"
     ]
    }
   ],
   "source": [
    "for card in my_hand.hand_cards:\n",
    "    print(card)"
   ]
  },
  {
   "cell_type": "code",
   "execution_count": 38,
   "metadata": {},
   "outputs": [],
   "source": [
    "class Chips:\n",
    "    \n",
    "    def __init__(self):\n",
    "        self.total = 100  # This can be set to a default value or supplied by a user input\n",
    "        self.bet = 0\n",
    "        \n",
    "    def win_bet(self):\n",
    "        self.total += self.bet\n",
    "    \n",
    "    def lose_bet(self):\n",
    "        self.total -= self.bet"
   ]
  },
  {
   "cell_type": "code",
   "execution_count": null,
   "metadata": {},
   "outputs": [],
   "source": []
  }
 ],
 "metadata": {
  "kernelspec": {
   "display_name": "Python 3",
   "language": "python",
   "name": "python3"
  },
  "language_info": {
   "codemirror_mode": {
    "name": "ipython",
    "version": 3
   },
   "file_extension": ".py",
   "mimetype": "text/x-python",
   "name": "python",
   "nbconvert_exporter": "python",
   "pygments_lexer": "ipython3",
   "version": "3.7.4"
  }
 },
 "nbformat": 4,
 "nbformat_minor": 2
}

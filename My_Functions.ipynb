{
 "cells": [
  {
   "cell_type": "code",
   "execution_count": 2,
   "metadata": {},
   "outputs": [],
   "source": [
    "def my_func(*args):\n",
    "    print(args)"
   ]
  },
  {
   "cell_type": "code",
   "execution_count": 4,
   "metadata": {},
   "outputs": [
    {
     "name": "stdout",
     "output_type": "stream",
     "text": [
      "(10, 22, 2002, 11)\n"
     ]
    }
   ],
   "source": [
    "my_func(10,22,2002,11)"
   ]
  },
  {
   "cell_type": "code",
   "execution_count": 5,
   "metadata": {},
   "outputs": [],
   "source": [
    "def myfunc(*args):\n",
    "    mylist=[]\n",
    "    for x in args:\n",
    "        if x%2==0:\n",
    "            mylist.append(x)\n",
    "    return mylist"
   ]
  },
  {
   "cell_type": "code",
   "execution_count": 7,
   "metadata": {},
   "outputs": [
    {
     "data": {
      "text/plain": [
       "[2, 6, 8]"
      ]
     },
     "execution_count": 7,
     "metadata": {},
     "output_type": "execute_result"
    }
   ],
   "source": [
    "myfunc(2,5,6,8)"
   ]
  },
  {
   "cell_type": "code",
   "execution_count": 16,
   "metadata": {},
   "outputs": [],
   "source": [
    "def myfunc(mystring):\n",
    "    x=len(mystring)\n",
    "    mynewstring=''\n",
    "    for i in range(x):\n",
    "        if i%2==0:\n",
    "            mynewstring=mynewstring+mystring[i].upper()\n",
    "        else:\n",
    "            mynewstring=mynewstring+mystring[i].lower()\n",
    "    return mynewstring"
   ]
  },
  {
   "cell_type": "code",
   "execution_count": 1,
   "metadata": {},
   "outputs": [
    {
     "ename": "NameError",
     "evalue": "name 'myfunc' is not defined",
     "output_type": "error",
     "traceback": [
      "\u001b[1;31m---------------------------------------------------------------------------\u001b[0m",
      "\u001b[1;31mNameError\u001b[0m                                 Traceback (most recent call last)",
      "\u001b[1;32m<ipython-input-1-93ff52e8042a>\u001b[0m in \u001b[0;36m<module>\u001b[1;34m\u001b[0m\n\u001b[1;32m----> 1\u001b[1;33m \u001b[0mmyfunc\u001b[0m\u001b[1;33m(\u001b[0m\u001b[1;34m'saratH'\u001b[0m\u001b[1;33m)\u001b[0m\u001b[1;33m\u001b[0m\u001b[1;33m\u001b[0m\u001b[0m\n\u001b[0m",
      "\u001b[1;31mNameError\u001b[0m: name 'myfunc' is not defined"
     ]
    }
   ],
   "source": [
    "myfunc('saratH')"
   ]
  },
  {
   "cell_type": "code",
   "execution_count": 10,
   "metadata": {},
   "outputs": [
    {
     "name": "stdout",
     "output_type": "stream",
     "text": [
      "I printed\n",
      "Now let us see what the values of f1 and f2 are\n",
      "None\n",
      "I returned\n"
     ]
    }
   ],
   "source": [
    "def function_that_prints():\n",
    "    print('I printed')\n",
    "\n",
    "def function_that_returns():\n",
    "    return 'I returned'\n",
    "\n",
    "f1 = function_that_prints()\n",
    "f2 = function_that_returns()\n",
    "print('Now let us see what the values of f1 and f2 are')\n",
    "print (f1)\n",
    "print (f2)"
   ]
  },
  {
   "cell_type": "code",
   "execution_count": 5,
   "metadata": {},
   "outputs": [
    {
     "data": {
      "text/plain": [
       "<function __main__.<lambda>(x, y)>"
      ]
     },
     "execution_count": 5,
     "metadata": {},
     "output_type": "execute_result"
    }
   ],
   "source": [
    "lambda x,y : x + y"
   ]
  },
  {
   "cell_type": "code",
   "execution_count": 11,
   "metadata": {},
   "outputs": [
    {
     "name": "stdout",
     "output_type": "stream",
     "text": [
      "<map object at 0x00000287BB5984C8>\n"
     ]
    }
   ],
   "source": [
    "x = (map(lambda x,y : x + y , (3,3)))\n",
    "print(x)"
   ]
  }
 ],
 "metadata": {
  "kernelspec": {
   "display_name": "Python 3",
   "language": "python",
   "name": "python3"
  },
  "language_info": {
   "codemirror_mode": {
    "name": "ipython",
    "version": 3
   },
   "file_extension": ".py",
   "mimetype": "text/x-python",
   "name": "python",
   "nbconvert_exporter": "python",
   "pygments_lexer": "ipython3",
   "version": "3.7.4"
  }
 },
 "nbformat": 4,
 "nbformat_minor": 2
}
